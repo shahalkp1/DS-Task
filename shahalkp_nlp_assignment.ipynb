{
 "cells": [
  {
   "cell_type": "markdown",
   "metadata": {},
   "source": [
    "NLP task 1"
   ]
  },
  {
   "cell_type": "code",
   "execution_count": 4,
   "metadata": {},
   "outputs": [],
   "source": [
    "tweets=[]\n",
    "import json\n",
    "with open('tweets.json') as jfile:\n",
    "  data = json.load(jfile)\n",
    "  lst1= data.keys()   \n",
    "  for i in lst1:\n",
    "        tweets.append(data[i][\"tweet_text\"])\n"
   ]
  },
  {
   "cell_type": "code",
   "execution_count": 5,
   "metadata": {},
   "outputs": [],
   "source": [
    "import re\n",
    "import nltk\n",
    "import string\n",
    "from nltk.corpus import stopwords\n",
    "from nltk.tokenize import word_tokenize\n",
    "text=''.join(map(str,tweets))\n",
    "text= ''.join([i for i in text if not i.isdigit()])\n",
    "text = re.sub(r'\\w+:\\/{2}[\\d\\w-]+(\\.[\\d\\w-]+)*(?:(?:\\/[^\\s/]*))*', '', text)\n",
    "text = re.sub(\"#[A-Za-z0-9_]+\",\"\", text)\n",
    "text= re.sub(\"@[A-Za-z0-9_]+\",\"\", text)\n",
    "text=re.sub(r'[^a-zA-Z0-9 .-]',r'',text)\n",
    "pattern = r\"\\b(?=[MDCLXVIΙ])M{0,4}(CM|CD|D?C{0,3})(XC|XL|L?X{0,3})([IΙ]X|[IΙ]V|V?[IΙ]{0,3})\\b\\.?\"\n",
    "text=re.sub(pattern, '&', text)\n",
    "remove = string.punctuation\n",
    "remove = remove.replace(\"-\", \"\") \n",
    "pattern = r\"[{}]\".format(remove)\n",
    "text=re.sub(pattern, \"\", text)\n",
    "stop_words = set(stopwords.words('english'))\n",
    "word_tokens = word_tokenize(text)\n",
    "filtered_sentence = [w for w in word_tokens if not w.lower() in stop_words]  \n",
    "filtered_sentence=' '.join(filtered_sentence)\n",
    "\n"
   ]
  },
  {
   "cell_type": "code",
   "execution_count": null,
   "metadata": {},
   "outputs": [],
   "source": [
    "pip install https://s3-us-west-2.amazonaws.com/ai2-s2-scispacy/releases/v0.5.0/en_ner_bc5cdr_md-0.5.0.tar.gz"
   ]
  },
  {
   "cell_type": "code",
   "execution_count": 7,
   "metadata": {},
   "outputs": [
    {
     "name": "stderr",
     "output_type": "stream",
     "text": [
      "c:\\ProgramData\\Anaconda3\\lib\\site-packages\\cupy\\_environment.py:213: UserWarning: CUDA path could not be detected. Set CUDA_PATH environment variable if CuPy fails to load.\n",
      "  warnings.warn(\n",
      "c:\\ProgramData\\Anaconda3\\lib\\site-packages\\cupy\\_environment.py:213: UserWarning: CUDA path could not be detected. Set CUDA_PATH environment variable if CuPy fails to load.\n",
      "  warnings.warn(\n",
      "c:\\ProgramData\\Anaconda3\\lib\\site-packages\\cupy\\_environment.py:213: UserWarning: CUDA path could not be detected. Set CUDA_PATH environment variable if CuPy fails to load.\n",
      "  warnings.warn(\n"
     ]
    }
   ],
   "source": [
    "import spacy\n",
    "import scispacy\n",
    "nlp = spacy.load(\"en_ner_bc5cdr_md\")\n",
    "nlp.max_length = 3386577\n",
    "doc=nlp(filtered_sentence)"
   ]
  },
  {
   "cell_type": "code",
   "execution_count": 12,
   "metadata": {},
   "outputs": [],
   "source": [
    "from collections import Counter\n",
    "import csv\n",
    "li=[]\n",
    "ents = Counter()\n",
    "header=['entity','frequency']\n",
    "for ent in doc.ents:\n",
    "    ents[f\"{ent.text}\"] += 1\n",
    "for key, val in ents.items():\n",
    "    li.append([key,val])\n",
    "with open('objective1.csv', 'w', encoding='UTF8', newline='') as f:\n",
    "    writer = csv.writer(f)\n",
    "    writer.writerow(header)\n",
    "    writer.writerows(li)"
   ]
  },
  {
   "cell_type": "markdown",
   "metadata": {},
   "source": [
    "NLP task 2"
   ]
  },
  {
   "cell_type": "code",
   "execution_count": 19,
   "metadata": {},
   "outputs": [],
   "source": [
    "import re\n",
    "import nltk\n",
    "import string\n",
    "from nltk.corpus import stopwords\n",
    "from nltk.tokenize import word_tokenize\n",
    "def clean(text):\n",
    "  text= ''.join([i for i in text if not i.isdigit()])\n",
    "  text = re.sub(r'\\w+:\\/{2}[\\d\\w-]+(\\.[\\d\\w-]+)*(?:(?:\\/[^\\s/]*))*', '', text)\n",
    "  text = re.sub(\"#[A-Za-z0-9_]+\",\"\", text)\n",
    "  text= re.sub(\"@[A-Za-z0-9_]+\",\"\", text)\n",
    "  text=re.sub(r'[^a-zA-Z0-9 .-]',r'',text)\n",
    "  pattern = r\"\\b(?=[MDCLXVIΙ])M{0,4}(CM|CD|D?C{0,3})(XC|XL|L?X{0,3})([IΙ]X|[IΙ]V|V?[IΙ]{0,3})\\b\\.?\"\n",
    "  text=re.sub(pattern, '&', text)\n",
    "  remove = string.punctuation\n",
    "  remove = remove.replace(\"-\", \"\") \n",
    "  pattern = r\"[{}]\".format(remove)\n",
    "  text=re.sub(pattern, \"\", text)\n",
    "  stop_words = set(stopwords.words('english'))\n",
    "  word_tokens = word_tokenize(text)\n",
    "  filtered_sentence = [w for w in word_tokens if not w.lower() in stop_words]  \n",
    "  filtered_sentence=' '.join(filtered_sentence)\n",
    "  return filtered_sentence\n",
    "\n"
   ]
  },
  {
   "cell_type": "code",
   "execution_count": 28,
   "metadata": {},
   "outputs": [],
   "source": [
    "import json\n",
    "from spacytextblob.spacytextblob import SpacyTextBlob\n",
    "nlp= spacy.load(\"en_ner_bc5cdr_md\")\n",
    "nlp.add_pipe('spacytextblob')\n",
    "lis=[]\n",
    "header=['entity','author_name','overall_polarity']\n",
    "with open('tweets.json') as jfile:\n",
    "  data = json.load(jfile)\n",
    "  lst1= data.keys()   \n",
    "  for i in lst1:\n",
    "        tweets=data[i][\"tweet_text\"]\n",
    "        author=data[i][\"tweet_author\"]\n",
    "        i=clean(tweets)\n",
    "        d=nlp(i)\n",
    "        a=d._.blob.polarity\n",
    "        if a>0:\n",
    "          a='Positive'\n",
    "        else:\n",
    "          a='Negative'\n",
    "        lis.append([d.ents,author,a])\n",
    "with open('objective2.csv', 'w', encoding='UTF8', newline='') as f:\n",
    "    writer = csv.writer(f)\n",
    "    writer.writerow(header)\n",
    "    writer.writerows(lis)\n"
   ]
  }
 ],
 "metadata": {
  "kernelspec": {
   "display_name": "Python 3.8.8 ('base')",
   "language": "python",
   "name": "python3"
  },
  "language_info": {
   "codemirror_mode": {
    "name": "ipython",
    "version": 3
   },
   "file_extension": ".py",
   "mimetype": "text/x-python",
   "name": "python",
   "nbconvert_exporter": "python",
   "pygments_lexer": "ipython3",
   "version": "3.8.8"
  },
  "orig_nbformat": 4,
  "vscode": {
   "interpreter": {
    "hash": "ad2bdc8ecc057115af97d19610ffacc2b4e99fae6737bb82f5d7fb13d2f2c186"
   }
  }
 },
 "nbformat": 4,
 "nbformat_minor": 2
}
